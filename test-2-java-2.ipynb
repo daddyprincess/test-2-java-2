{
 "cells": [
  {
   "cell_type": "markdown",
   "id": "b07219a0-9fe3-4211-8e1c-129dafdfed84",
   "metadata": {},
   "source": [
    "## 2.fibanacci series"
   ]
  },
  {
   "cell_type": "code",
   "execution_count": null,
   "id": "bac03ecc-8233-438e-a837-a426e8651753",
   "metadata": {},
   "outputs": [],
   "source": [
    "import java.util.Scanner;\n",
    "\n",
    "public class FibonacciSeries {\n",
    "    public static void main(String[] args) {\n",
    "        Scanner scanner = new Scanner(System.in);\n",
    "\n",
    "        System.out.print(\"Enter the number of terms: \");\n",
    "        int n = scanner.nextInt();\n",
    "\n",
    "        int first = 0;\n",
    "        int second = 1;\n",
    "\n",
    "        System.out.print(\"Fibonacci Series up to \" + n + \" terms: \");\n",
    "        System.out.print(first + \" \" + second + \" \");\n",
    "\n",
    "        for (int i = 3; i <= n; i++) {\n",
    "            int next = first + second;\n",
    "            System.out.print(next + \" \");\n",
    "\n",
    "            first = second;\n",
    "            second = next;\n",
    "        }\n",
    "\n",
    "        scanner.close();\n",
    "    }\n",
    "}\n"
   ]
  }
 ],
 "metadata": {
  "kernelspec": {
   "display_name": "Python 3 (ipykernel)",
   "language": "python",
   "name": "python3"
  },
  "language_info": {
   "codemirror_mode": {
    "name": "ipython",
    "version": 3
   },
   "file_extension": ".py",
   "mimetype": "text/x-python",
   "name": "python",
   "nbconvert_exporter": "python",
   "pygments_lexer": "ipython3",
   "version": "3.10.8"
  }
 },
 "nbformat": 4,
 "nbformat_minor": 5
}
